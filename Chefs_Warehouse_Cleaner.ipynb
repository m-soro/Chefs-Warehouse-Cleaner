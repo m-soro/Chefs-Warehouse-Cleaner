{
  "nbformat": 4,
  "nbformat_minor": 0,
  "metadata": {
    "colab": {
      "name": "Chefs Warehouse Cleaner.ipynb",
      "provenance": [],
      "collapsed_sections": [],
      "authorship_tag": "ABX9TyNXa0/qsf4D6LosmPDdOpUF",
      "include_colab_link": true
    },
    "kernelspec": {
      "name": "python3",
      "display_name": "Python 3"
    },
    "language_info": {
      "name": "python"
    }
  },
  "cells": [
    {
      "cell_type": "markdown",
      "metadata": {
        "id": "view-in-github",
        "colab_type": "text"
      },
      "source": [
        "<a href=\"https://colab.research.google.com/github/m-soro/Chefs-Warehouse-Cleaner/blob/main/Chefs_Warehouse_Cleaner.ipynb\" target=\"_parent\"><img src=\"https://colab.research.google.com/assets/colab-badge.svg\" alt=\"Open In Colab\"/></a>"
      ]
    },
    {
      "cell_type": "code",
      "metadata": {
        "id": "rNo0fDTMDwQC"
      },
      "source": [
        "#@title Chefs Warehouse Report cleaner { display-mode: \"form\" }\n",
        "try:\n",
        "    import glob\n",
        "    import pandas as pd\n",
        "    import numpy as np\n",
        "    import xlsxwriter\n",
        "    from google.colab import files\n",
        "except:\n",
        "    !pip install xlsxwriter\n",
        "\n",
        "def cleaner():\n",
        "    file = glob.glob('*.xls')\n",
        "    df = pd.read_excel(file[0])\n",
        "    df.drop(df.columns[np.r_[ 1,3,5:9 ]], axis=1, inplace=True)\n",
        "    df['Adaco Number'] = \"\"\n",
        "    sheet_name = 'Chefs'\n",
        "    d = datetime.datetime.now().strftime(\"%m.%d.%y\")\n",
        "    writer = pd.ExcelWriter(sheet_name + '.' + d + '.xlsx',engine='xlsxwriter')\n",
        "    df.to_excel(writer,sheet_name=sheet_name,index=False)\n",
        "    workbook  = writer.book\n",
        "    worksheet = writer.sheets[sheet_name]\n",
        "    worksheet.set_column('B:B', df['Name'].str.len().max())\n",
        "    writer.save()\n",
        "    files.download(sheet_name + '.' + d + '.xlsx')    \n",
        "\n",
        "cleaner()   "
      ],
      "execution_count": null,
      "outputs": []
    }
  ]
}